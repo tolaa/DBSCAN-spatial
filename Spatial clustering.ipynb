{
 "cells": [
  {
   "cell_type": "markdown",
   "metadata": {},
   "source": [
    "## Branch Network Mapping"
   ]
  },
  {
   "cell_type": "code",
   "execution_count": 1,
   "metadata": {
    "collapsed": true
   },
   "outputs": [],
   "source": [
    "import pandas as pd\n",
    "import numpy as np\n",
    "from sklearn.cluster import DBSCAN\n",
    "from geopy.distance import great_circle\n",
    "from shapely.geometry import MultiPoint"
   ]
  },
  {
   "cell_type": "code",
   "execution_count": 2,
   "metadata": {
    "collapsed": true
   },
   "outputs": [],
   "source": [
    "EARTHRADIUS = 6371.0\n",
    "def getDistanceByHaversine(loc1, loc2):\n",
    "    dlon = loc1[1] - loc2[1]\n",
    "    dlat = loc1[0] - loc2[0]\n",
    "    a = (np.sin(dlat/2))**2 + loc1[2]  * loc2[2] * (np.sin(dlon/2.0))**2\n",
    "    c = 2.0 * np.arctan2(np.sqrt(a), np.sqrt(1.0-a))\n",
    "    km = EARTHRADIUS * c\n",
    "    return km"
   ]
  },
  {
   "cell_type": "code",
   "execution_count": 3,
   "metadata": {
    "collapsed": false
   },
   "outputs": [],
   "source": [
    "def matrix_com(matrix):\n",
    "    dist_list = []\n",
    "    for cols1 in range(matrix.shape[0]):\n",
    "        M = np.array([matrix[cols1, 0], matrix[cols1, 1], matrix[cols1, 2]])\n",
    "        for cols2 in range(cols1+1, matrix.shape[0]):\n",
    "                N = np.array([matrix[cols2, 0], matrix[cols2, 1], matrix[cols2, 2]])\n",
    "                dist = getDistanceByHaversine(M, N)\n",
    "                dist_list.append(dist)\n",
    "    return dist_list"
   ]
  },
  {
   "cell_type": "code",
   "execution_count": 5,
   "metadata": {
    "collapsed": true
   },
   "outputs": [],
   "source": [
    "def get_centermost_point(cluster):\n",
    "    # Extracting geometric centre\n",
    "    centroid = (MultiPoint(cluster).centroid.x, MultiPoint(cluster).centroid.y)\n",
    "    centermost_point = min(cluster, key=lambda point: great_circle(point, centroid).m)\n",
    "    return tuple(centermost_point)"
   ]
  },
  {
   "cell_type": "markdown",
   "metadata": {},
   "source": [
    "### Aim\n",
    "\n",
    "Assuming  Contrywide was to start with a blank canvas operating with 2 brands i.e. prime and value:\n",
    "   \n",
    "   . How many prime and value branches \n",
    "   \n",
    "   . Where should the branches be located\n",
    "   \n",
    "   . What is the revenue opportunity for each branch"
   ]
  },
  {
   "cell_type": "code",
   "execution_count": 6,
   "metadata": {
    "collapsed": false
   },
   "outputs": [
    {
     "data": {
      "text/html": [
       "<div>\n",
       "<style scoped>\n",
       "    .dataframe tbody tr th:only-of-type {\n",
       "        vertical-align: middle;\n",
       "    }\n",
       "\n",
       "    .dataframe tbody tr th {\n",
       "        vertical-align: top;\n",
       "    }\n",
       "\n",
       "    .dataframe thead th {\n",
       "        text-align: right;\n",
       "    }\n",
       "</style>\n",
       "<table border=\"1\" class=\"dataframe\">\n",
       "  <thead>\n",
       "    <tr style=\"text-align: right;\">\n",
       "      <th></th>\n",
       "      <th>Post_Area</th>\n",
       "      <th>Latitude</th>\n",
       "      <th>Longitude</th>\n",
       "      <th>Property_Type</th>\n",
       "      <th>Property_Price</th>\n",
       "    </tr>\n",
       "  </thead>\n",
       "  <tbody>\n",
       "    <tr>\n",
       "      <th>0</th>\n",
       "      <td>NG</td>\n",
       "      <td>53.026627</td>\n",
       "      <td>-1.202770</td>\n",
       "      <td>Value</td>\n",
       "      <td>126000</td>\n",
       "    </tr>\n",
       "    <tr>\n",
       "      <th>1</th>\n",
       "      <td>NG</td>\n",
       "      <td>53.026341</td>\n",
       "      <td>-1.208354</td>\n",
       "      <td>Value</td>\n",
       "      <td>160000</td>\n",
       "    </tr>\n",
       "    <tr>\n",
       "      <th>2</th>\n",
       "      <td>NG</td>\n",
       "      <td>53.026341</td>\n",
       "      <td>-1.208354</td>\n",
       "      <td>Value</td>\n",
       "      <td>120500</td>\n",
       "    </tr>\n",
       "    <tr>\n",
       "      <th>3</th>\n",
       "      <td>NG</td>\n",
       "      <td>53.025055</td>\n",
       "      <td>-1.221487</td>\n",
       "      <td>Value</td>\n",
       "      <td>235000</td>\n",
       "    </tr>\n",
       "    <tr>\n",
       "      <th>4</th>\n",
       "      <td>NG</td>\n",
       "      <td>53.025055</td>\n",
       "      <td>-1.221487</td>\n",
       "      <td>Value</td>\n",
       "      <td>135000</td>\n",
       "    </tr>\n",
       "  </tbody>\n",
       "</table>\n",
       "</div>"
      ],
      "text/plain": [
       "  Post_Area   Latitude  Longitude Property_Type  Property_Price\n",
       "0        NG  53.026627  -1.202770         Value          126000\n",
       "1        NG  53.026341  -1.208354         Value          160000\n",
       "2        NG  53.026341  -1.208354         Value          120500\n",
       "3        NG  53.025055  -1.221487         Value          235000\n",
       "4        NG  53.025055  -1.221487         Value          135000"
      ]
     },
     "execution_count": 6,
     "metadata": {},
     "output_type": "execute_result"
    }
   ],
   "source": [
    "df = pd.read_csv('lrg.txt', sep='\\t', header=None)\n",
    "df.rename(columns={0: 'Post_Area', 1: 'Latitude', 2: 'Longitude', 3: 'Property_Type', 4: 'Property_Price'},\n",
    "         inplace=True)\n",
    "df.head()"
   ]
  },
  {
   "cell_type": "code",
   "execution_count": 7,
   "metadata": {
    "collapsed": false
   },
   "outputs": [
    {
     "data": {
      "text/html": [
       "<div>\n",
       "<style scoped>\n",
       "    .dataframe tbody tr th:only-of-type {\n",
       "        vertical-align: middle;\n",
       "    }\n",
       "\n",
       "    .dataframe tbody tr th {\n",
       "        vertical-align: top;\n",
       "    }\n",
       "\n",
       "    .dataframe thead th {\n",
       "        text-align: right;\n",
       "    }\n",
       "</style>\n",
       "<table border=\"1\" class=\"dataframe\">\n",
       "  <thead>\n",
       "    <tr style=\"text-align: right;\">\n",
       "      <th></th>\n",
       "      <th>Post_Area</th>\n",
       "      <th>Property_Type</th>\n",
       "      <th>Instructions</th>\n",
       "    </tr>\n",
       "  </thead>\n",
       "  <tbody>\n",
       "    <tr>\n",
       "      <th>0</th>\n",
       "      <td>TW</td>\n",
       "      <td>Prime</td>\n",
       "      <td>18.0</td>\n",
       "    </tr>\n",
       "    <tr>\n",
       "      <th>1</th>\n",
       "      <td>HU</td>\n",
       "      <td>Value</td>\n",
       "      <td>125.0</td>\n",
       "    </tr>\n",
       "    <tr>\n",
       "      <th>2</th>\n",
       "      <td>DG</td>\n",
       "      <td>Value</td>\n",
       "      <td>79.0</td>\n",
       "    </tr>\n",
       "    <tr>\n",
       "      <th>3</th>\n",
       "      <td>BA</td>\n",
       "      <td>Prime</td>\n",
       "      <td>11.0</td>\n",
       "    </tr>\n",
       "    <tr>\n",
       "      <th>4</th>\n",
       "      <td>EC</td>\n",
       "      <td>Prime</td>\n",
       "      <td>18.0</td>\n",
       "    </tr>\n",
       "  </tbody>\n",
       "</table>\n",
       "</div>"
      ],
      "text/plain": [
       "  Post_Area Property_Type  Instructions\n",
       "0        TW         Prime          18.0\n",
       "1        HU         Value         125.0\n",
       "2        DG         Value          79.0\n",
       "3        BA         Prime          11.0\n",
       "4        EC         Prime          18.0"
      ]
     },
     "execution_count": 7,
     "metadata": {},
     "output_type": "execute_result"
    }
   ],
   "source": [
    "inst_df = pd.read_csv('Instructions.txt', sep='\\t')\n",
    "inst_df['Instructions'] = [round(i) for i in inst_df['Instructions']]\n",
    "inst_df.head()"
   ]
  },
  {
   "cell_type": "code",
   "execution_count": 8,
   "metadata": {
    "collapsed": false
   },
   "outputs": [
    {
     "data": {
      "text/html": [
       "<div>\n",
       "<style scoped>\n",
       "    .dataframe tbody tr th:only-of-type {\n",
       "        vertical-align: middle;\n",
       "    }\n",
       "\n",
       "    .dataframe tbody tr th {\n",
       "        vertical-align: top;\n",
       "    }\n",
       "\n",
       "    .dataframe thead th {\n",
       "        text-align: right;\n",
       "    }\n",
       "</style>\n",
       "<table border=\"1\" class=\"dataframe\">\n",
       "  <thead>\n",
       "    <tr style=\"text-align: right;\">\n",
       "      <th></th>\n",
       "      <th>Post_Area</th>\n",
       "      <th>Latitude</th>\n",
       "      <th>Longitude</th>\n",
       "      <th>Property_Type</th>\n",
       "      <th>Property_Price</th>\n",
       "      <th>Lat_Radian</th>\n",
       "      <th>Long_Radian</th>\n",
       "      <th>Cos_Lat_Rad</th>\n",
       "    </tr>\n",
       "  </thead>\n",
       "  <tbody>\n",
       "    <tr>\n",
       "      <th>0</th>\n",
       "      <td>NG</td>\n",
       "      <td>53.026627</td>\n",
       "      <td>-1.202770</td>\n",
       "      <td>Value</td>\n",
       "      <td>126000</td>\n",
       "      <td>0.925489</td>\n",
       "      <td>-0.020992</td>\n",
       "      <td>0.601444</td>\n",
       "    </tr>\n",
       "    <tr>\n",
       "      <th>1</th>\n",
       "      <td>NG</td>\n",
       "      <td>53.026341</td>\n",
       "      <td>-1.208354</td>\n",
       "      <td>Value</td>\n",
       "      <td>160000</td>\n",
       "      <td>0.925484</td>\n",
       "      <td>-0.021090</td>\n",
       "      <td>0.601448</td>\n",
       "    </tr>\n",
       "    <tr>\n",
       "      <th>2</th>\n",
       "      <td>NG</td>\n",
       "      <td>53.026341</td>\n",
       "      <td>-1.208354</td>\n",
       "      <td>Value</td>\n",
       "      <td>120500</td>\n",
       "      <td>0.925484</td>\n",
       "      <td>-0.021090</td>\n",
       "      <td>0.601448</td>\n",
       "    </tr>\n",
       "    <tr>\n",
       "      <th>3</th>\n",
       "      <td>NG</td>\n",
       "      <td>53.025055</td>\n",
       "      <td>-1.221487</td>\n",
       "      <td>Value</td>\n",
       "      <td>235000</td>\n",
       "      <td>0.925462</td>\n",
       "      <td>-0.021319</td>\n",
       "      <td>0.601466</td>\n",
       "    </tr>\n",
       "    <tr>\n",
       "      <th>4</th>\n",
       "      <td>NG</td>\n",
       "      <td>53.025055</td>\n",
       "      <td>-1.221487</td>\n",
       "      <td>Value</td>\n",
       "      <td>135000</td>\n",
       "      <td>0.925462</td>\n",
       "      <td>-0.021319</td>\n",
       "      <td>0.601466</td>\n",
       "    </tr>\n",
       "  </tbody>\n",
       "</table>\n",
       "</div>"
      ],
      "text/plain": [
       "  Post_Area   Latitude  Longitude Property_Type  Property_Price  Lat_Radian  \\\n",
       "0        NG  53.026627  -1.202770         Value          126000    0.925489   \n",
       "1        NG  53.026341  -1.208354         Value          160000    0.925484   \n",
       "2        NG  53.026341  -1.208354         Value          120500    0.925484   \n",
       "3        NG  53.025055  -1.221487         Value          235000    0.925462   \n",
       "4        NG  53.025055  -1.221487         Value          135000    0.925462   \n",
       "\n",
       "   Long_Radian  Cos_Lat_Rad  \n",
       "0    -0.020992     0.601444  \n",
       "1    -0.021090     0.601448  \n",
       "2    -0.021090     0.601448  \n",
       "3    -0.021319     0.601466  \n",
       "4    -0.021319     0.601466  "
      ]
     },
     "execution_count": 8,
     "metadata": {},
     "output_type": "execute_result"
    }
   ],
   "source": [
    "df['Lat_Radian'] = df['Latitude']  * np.pi / 180.0\n",
    "df['Long_Radian'] = df['Longitude']  * np.pi / 180.0\n",
    "df['Cos_Lat_Rad'] = [np.cos(x) for x in df['Lat_Radian']]\n",
    "df.head()"
   ]
  },
  {
   "cell_type": "code",
   "execution_count": 25,
   "metadata": {
    "collapsed": false
   },
   "outputs": [
    {
     "data": {
      "text/html": [
       "<div>\n",
       "<style scoped>\n",
       "    .dataframe tbody tr th:only-of-type {\n",
       "        vertical-align: middle;\n",
       "    }\n",
       "\n",
       "    .dataframe tbody tr th {\n",
       "        vertical-align: top;\n",
       "    }\n",
       "\n",
       "    .dataframe thead th {\n",
       "        text-align: right;\n",
       "    }\n",
       "</style>\n",
       "<table border=\"1\" class=\"dataframe\">\n",
       "  <thead>\n",
       "    <tr style=\"text-align: right;\">\n",
       "      <th></th>\n",
       "      <th>index</th>\n",
       "      <th>Post_Area</th>\n",
       "    </tr>\n",
       "  </thead>\n",
       "  <tbody>\n",
       "    <tr>\n",
       "      <th>104</th>\n",
       "      <td>TD</td>\n",
       "      <td>305</td>\n",
       "    </tr>\n",
       "    <tr>\n",
       "      <th>103</th>\n",
       "      <td>WC</td>\n",
       "      <td>319</td>\n",
       "    </tr>\n",
       "    <tr>\n",
       "      <th>102</th>\n",
       "      <td>EC</td>\n",
       "      <td>697</td>\n",
       "    </tr>\n",
       "    <tr>\n",
       "      <th>101</th>\n",
       "      <td>LD</td>\n",
       "      <td>715</td>\n",
       "    </tr>\n",
       "    <tr>\n",
       "      <th>100</th>\n",
       "      <td>HX</td>\n",
       "      <td>2631</td>\n",
       "    </tr>\n",
       "    <tr>\n",
       "      <th>99</th>\n",
       "      <td>HG</td>\n",
       "      <td>2748</td>\n",
       "    </tr>\n",
       "    <tr>\n",
       "      <th>98</th>\n",
       "      <td>HR</td>\n",
       "      <td>2945</td>\n",
       "    </tr>\n",
       "    <tr>\n",
       "      <th>97</th>\n",
       "      <td>SR</td>\n",
       "      <td>3148</td>\n",
       "    </tr>\n",
       "    <tr>\n",
       "      <th>96</th>\n",
       "      <td>SM</td>\n",
       "      <td>3469</td>\n",
       "    </tr>\n",
       "    <tr>\n",
       "      <th>95</th>\n",
       "      <td>UB</td>\n",
       "      <td>3502</td>\n",
       "    </tr>\n",
       "    <tr>\n",
       "      <th>94</th>\n",
       "      <td>TF</td>\n",
       "      <td>3672</td>\n",
       "    </tr>\n",
       "    <tr>\n",
       "      <th>93</th>\n",
       "      <td>WD</td>\n",
       "      <td>3952</td>\n",
       "    </tr>\n",
       "    <tr>\n",
       "      <th>92</th>\n",
       "      <td>IG</td>\n",
       "      <td>3960</td>\n",
       "    </tr>\n",
       "    <tr>\n",
       "      <th>91</th>\n",
       "      <td>AL</td>\n",
       "      <td>3990</td>\n",
       "    </tr>\n",
       "    <tr>\n",
       "      <th>90</th>\n",
       "      <td>SP</td>\n",
       "      <td>4060</td>\n",
       "    </tr>\n",
       "  </tbody>\n",
       "</table>\n",
       "</div>"
      ],
      "text/plain": [
       "    index  Post_Area\n",
       "104    TD        305\n",
       "103    WC        319\n",
       "102    EC        697\n",
       "101    LD        715\n",
       "100    HX       2631\n",
       "99     HG       2748\n",
       "98     HR       2945\n",
       "97     SR       3148\n",
       "96     SM       3469\n",
       "95     UB       3502\n",
       "94     TF       3672\n",
       "93     WD       3952\n",
       "92     IG       3960\n",
       "91     AL       3990\n",
       "90     SP       4060"
      ]
     },
     "execution_count": 25,
     "metadata": {},
     "output_type": "execute_result"
    }
   ],
   "source": [
    "pa_df = df['Post_Area'].value_counts()\n",
    "(pa_df.reset_index()).sort_values('Post_Area')[:15]"
   ]
  },
  {
   "cell_type": "markdown",
   "metadata": {},
   "source": [
    "#### Calculation to define max distance between 2 points in a prime and value cluster for each postcode area"
   ]
  },
  {
   "cell_type": "code",
   "execution_count": 26,
   "metadata": {
    "collapsed": false
   },
   "outputs": [],
   "source": [
    "dist_final_df = pd.DataFrame()\n",
    "# for post_area in df['Post_Area'].unique():\n",
    "for post_area in ['WD']:\n",
    "    post_df = df[df['Post_Area'] == post_area]\n",
    "    for branch_type in post_df['Property_Type'].unique():\n",
    "        branch_df = post_df[post_df['Property_Type'] == branch_type]\n",
    "        measure_list = []    \n",
    "        cords = branch_df[['Lat_Radian', 'Long_Radian', 'Cos_Lat_Rad']].values\n",
    "        dist_list = matrix_com(cords)\n",
    "        dist_list = [ i for i in dist_list if i > 0]\n",
    "        dist_threhold_1 = np.average(dist_list) / 10\n",
    "        dist_threhold_2 = np.percentile(dist_list, 0.25)\n",
    "        dist_threhold_3 = np.average(dist_list) / 5\n",
    "        dist_threhold_4 = np.percentile(dist_list, 0.5)\n",
    "        dist_threhold_5 = np.average(dist_list)\n",
    "        measure_list.append((dist_threhold_1, dist_threhold_2, dist_threhold_3, \n",
    "                             dist_threhold_4, dist_threhold_5, post_area, branch_type))\n",
    "        dist_df = pd.DataFrame(measure_list, columns = ['dist_threhold_1', 'dist_threhold_2', \n",
    "                                                       'dist_threhold_3', 'dist_threhold_4', 'dist_threhold_5', \n",
    "                                                       'Post_Area', 'Property_Type'])\n",
    "        dist_final_df = pd.concat([dist_final_df,dist_df])"
   ]
  },
  {
   "cell_type": "code",
   "execution_count": 27,
   "metadata": {
    "collapsed": false
   },
   "outputs": [
    {
     "data": {
      "text/html": [
       "<div>\n",
       "<style scoped>\n",
       "    .dataframe tbody tr th:only-of-type {\n",
       "        vertical-align: middle;\n",
       "    }\n",
       "\n",
       "    .dataframe tbody tr th {\n",
       "        vertical-align: top;\n",
       "    }\n",
       "\n",
       "    .dataframe thead th {\n",
       "        text-align: right;\n",
       "    }\n",
       "</style>\n",
       "<table border=\"1\" class=\"dataframe\">\n",
       "  <thead>\n",
       "    <tr style=\"text-align: right;\">\n",
       "      <th></th>\n",
       "      <th>dist_threhold_1</th>\n",
       "      <th>dist_threhold_2</th>\n",
       "      <th>dist_threhold_3</th>\n",
       "      <th>dist_threhold_4</th>\n",
       "      <th>dist_threhold_5</th>\n",
       "      <th>Post_Area</th>\n",
       "      <th>Property_Type</th>\n",
       "    </tr>\n",
       "  </thead>\n",
       "  <tbody>\n",
       "    <tr>\n",
       "      <th>0</th>\n",
       "      <td>0.702509</td>\n",
       "      <td>0.192051</td>\n",
       "      <td>1.405018</td>\n",
       "      <td>0.283269</td>\n",
       "      <td>7.025092</td>\n",
       "      <td>WD</td>\n",
       "      <td>Prime</td>\n",
       "    </tr>\n",
       "    <tr>\n",
       "      <th>0</th>\n",
       "      <td>0.582867</td>\n",
       "      <td>0.155321</td>\n",
       "      <td>1.165734</td>\n",
       "      <td>0.230514</td>\n",
       "      <td>5.828669</td>\n",
       "      <td>WD</td>\n",
       "      <td>Value</td>\n",
       "    </tr>\n",
       "  </tbody>\n",
       "</table>\n",
       "</div>"
      ],
      "text/plain": [
       "   dist_threhold_1  dist_threhold_2  dist_threhold_3  dist_threhold_4  \\\n",
       "0         0.702509         0.192051         1.405018         0.283269   \n",
       "0         0.582867         0.155321         1.165734         0.230514   \n",
       "\n",
       "   dist_threhold_5 Post_Area Property_Type  \n",
       "0         7.025092        WD         Prime  \n",
       "0         5.828669        WD         Value  "
      ]
     },
     "execution_count": 27,
     "metadata": {},
     "output_type": "execute_result"
    }
   ],
   "source": [
    "dist_final_df"
   ]
  },
  {
   "cell_type": "code",
   "execution_count": 28,
   "metadata": {
    "collapsed": false
   },
   "outputs": [
    {
     "data": {
      "text/plain": [
       "'Sample size for Prime branch is 187.428571429 '"
      ]
     },
     "execution_count": 28,
     "metadata": {},
     "output_type": "execute_result"
    },
    {
     "data": {
      "text/plain": [
       "'Max distance for Prime branch is 0.702509225079 '"
      ]
     },
     "execution_count": 28,
     "metadata": {},
     "output_type": "execute_result"
    },
    {
     "data": {
      "text/plain": [
       "'Original Cluster Size for Prime branch is 26 '"
      ]
     },
     "execution_count": 28,
     "metadata": {},
     "output_type": "execute_result"
    },
    {
     "name": "stderr",
     "output_type": "stream",
     "text": [
      "C:\\Users\\adetola.alade\\AppData\\Local\\Continuum\\Anaconda2\\lib\\site-packages\\ipykernel\\__main__.py:69: SettingWithCopyWarning: \n",
      "A value is trying to be set on a copy of a slice from a DataFrame.\n",
      "Try using .loc[row_indexer,col_indexer] = value instead\n",
      "\n",
      "See the caveats in the documentation: http://pandas.pydata.org/pandas-docs/stable/indexing.html#indexing-view-versus-copy\n",
      "C:\\Users\\adetola.alade\\AppData\\Local\\Continuum\\Anaconda2\\lib\\site-packages\\ipykernel\\__main__.py:70: SettingWithCopyWarning: \n",
      "A value is trying to be set on a copy of a slice from a DataFrame.\n",
      "Try using .loc[row_indexer,col_indexer] = value instead\n",
      "\n",
      "See the caveats in the documentation: http://pandas.pydata.org/pandas-docs/stable/indexing.html#indexing-view-versus-copy\n",
      "C:\\Users\\adetola.alade\\AppData\\Local\\Continuum\\Anaconda2\\lib\\site-packages\\ipykernel\\__main__.py:71: SettingWithCopyWarning: \n",
      "A value is trying to be set on a copy of a slice from a DataFrame.\n",
      "Try using .loc[row_indexer,col_indexer] = value instead\n",
      "\n",
      "See the caveats in the documentation: http://pandas.pydata.org/pandas-docs/stable/indexing.html#indexing-view-versus-copy\n"
     ]
    },
    {
     "data": {
      "text/plain": [
       "'Sample size for Value branch is 242.285714286 '"
      ]
     },
     "execution_count": 28,
     "metadata": {},
     "output_type": "execute_result"
    },
    {
     "data": {
      "text/plain": [
       "'Max distance for Value branch is 0.155321110824 '"
      ]
     },
     "execution_count": 28,
     "metadata": {},
     "output_type": "execute_result"
    },
    {
     "data": {
      "text/plain": [
       "'Original Cluster Size for Value branch is 306 '"
      ]
     },
     "execution_count": 28,
     "metadata": {},
     "output_type": "execute_result"
    }
   ],
   "source": [
    "final_label_df = pd.DataFrame()\n",
    "branch_final_df = pd.DataFrame()\n",
    "final_rep_points = pd.DataFrame()\n",
    "\n",
    "# for post_area in df['Post_Area'].unique():\n",
    "for post_area in ['WD']:\n",
    "    post_df = df[df['Post_Area'] == post_area]\n",
    "    for branch_type in post_df['Property_Type'].unique():\n",
    "        branch_df = post_df[post_df['Property_Type'] == branch_type]\n",
    "        # No of avg instruction required to be successful in postcode area for branch type\n",
    "        new_inst_df = inst_df[inst_df['Post_Area'] == post_area]\n",
    "        new_inst_df = new_inst_df[new_inst_df['Property_Type'] == branch_type]\n",
    "        \n",
    "        new_dist_df = dist_final_df[dist_final_df['Post_Area'] == post_area]\n",
    "        new_dist_df = new_dist_df[new_dist_df['Property_Type'] == branch_type]\n",
    "        dist_threhold_1 = new_dist_df['dist_threhold_1'][0]\n",
    "        dist_threhold_2 = new_dist_df['dist_threhold_2'][0]\n",
    "        x = 0.40\n",
    "        y = 0.07\n",
    "        # Assuming a 50% conversion rate from instruction to exchange(x) and a 7% market share(y) for branch\n",
    "        sample_size = (new_inst_df['Instructions'].values[0] * x) / y\n",
    "        # Allowing a 20% wiggle room for sample size\n",
    "        sample_size = sample_size - (0.2 * sample_size)\n",
    "        'Sample size for {} branch is {} '.format(branch_type, sample_size)\n",
    "        if branch_type == 'Prime':\n",
    "            if post_area in ['SE', 'SW', 'NW', 'W', 'E', 'EC', 'WC','N']:\n",
    "            # Epsilon to define London is smaller as \n",
    "            # London is predominately a prime region hence allowing for more prime branches\n",
    "                dist_threhold = dist_threhold_2\n",
    "            else:\n",
    "                dist_threhold = dist_threhold_1\n",
    "        else:\n",
    "            dist_threhold = dist_threhold_2\n",
    "        'Max distance for {} branch is {} '.format(branch_type, dist_threhold)      \n",
    "        coords = branch_df.as_matrix(columns=['Lat_Radian', 'Long_Radian'])\n",
    "        kms_per_radian = 6371.0088\n",
    "        # Convert max distance to radians\n",
    "        epsilon = dist_threhold / kms_per_radian\n",
    "        ms = DBSCAN(eps=epsilon, min_samples=1, algorithm='ball_tree', metric='haversine').fit(coords)\n",
    "        cluster_labels = ms.labels_\n",
    "        num_clusters = len(set(cluster_labels)) - (1 if -1 in cluster_labels else 0)\n",
    "        'Original Cluster Size for {} branch is {} '.format(branch_type, num_clusters)\n",
    "        label_df = pd.DataFrame({ \"label\": cluster_labels})\n",
    "        label_df = label_df[label_df[\"label\"] <> -1]\n",
    "        label_df['Count'] = label_df.groupby('label')['label'].transform('count')\n",
    "        label_df.drop_duplicates(inplace=True)\n",
    "        label_df.sort_values('Count', ascending=False, inplace=True)\n",
    "        label_df_new = label_df[label_df['Count'] >= sample_size]\n",
    "        rep_points = pd.DataFrame() \n",
    "        if len(label_df_new) > 0:\n",
    "            clusters = pd.Series([coords[cluster_labels == n] for n in label_df_new['label'].unique()])\n",
    "            centermost_points = clusters.map(get_centermost_point)    \n",
    "            lats, lons = zip(*centermost_points)\n",
    "            # Dataframe for cluster centres\n",
    "            rep_points = pd.DataFrame({'lon':lons, 'lat':lats}) \n",
    "            rep_points.loc[:, 'Post_Area'] = post_area\n",
    "            rep_points.loc[:, 'Branch_Type'] = branch_type\n",
    "        # If there are no clusters for a postcode area, reduce cluster size \n",
    "        # by further 20% \n",
    "        else:\n",
    "            label_df_new = label_df[label_df['Count'] >= sample_size - (0.2 * sample_size)]\n",
    "            if len(label_df_new) > 0:\n",
    "                clusters = pd.Series([coords[cluster_labels == n] for n in label_df_new['label'].unique()])\n",
    "                centermost_points = clusters.map(get_centermost_point)    \n",
    "                lats, lons = zip(*centermost_points)\n",
    "                rep_points = pd.DataFrame({'lon':lons, 'lat':lats}) \n",
    "                rep_points.loc[:, 'Post_Area'] = post_area\n",
    "                rep_points.loc[:, 'Branch_Type'] = branch_type\n",
    "        label_df_new['Branch_Type'] = branch_type\n",
    "        label_df_new['Sample_Size'] = sample_size\n",
    "        label_df_new['Distance Threshold'] = dist_threhold\n",
    "        final_label_df = pd.concat([final_label_df, label_df_new])\n",
    "        final_rep_points = pd.concat([final_rep_points, rep_points])"
   ]
  },
  {
   "cell_type": "markdown",
   "metadata": {},
   "source": [
    "Using this model, I would recommend 2 prime branches and 1 value branch in Watford"
   ]
  },
  {
   "cell_type": "code",
   "execution_count": 29,
   "metadata": {
    "collapsed": false
   },
   "outputs": [
    {
     "data": {
      "text/html": [
       "<div>\n",
       "<style scoped>\n",
       "    .dataframe tbody tr th:only-of-type {\n",
       "        vertical-align: middle;\n",
       "    }\n",
       "\n",
       "    .dataframe tbody tr th {\n",
       "        vertical-align: top;\n",
       "    }\n",
       "\n",
       "    .dataframe thead th {\n",
       "        text-align: right;\n",
       "    }\n",
       "</style>\n",
       "<table border=\"1\" class=\"dataframe\">\n",
       "  <thead>\n",
       "    <tr style=\"text-align: right;\">\n",
       "      <th></th>\n",
       "      <th>label</th>\n",
       "      <th>Count</th>\n",
       "      <th>Branch_Type</th>\n",
       "      <th>Sample_Size</th>\n",
       "      <th>Distance Threshold</th>\n",
       "    </tr>\n",
       "  </thead>\n",
       "  <tbody>\n",
       "    <tr>\n",
       "      <th>281</th>\n",
       "      <td>7</td>\n",
       "      <td>620</td>\n",
       "      <td>Prime</td>\n",
       "      <td>187.428571</td>\n",
       "      <td>0.702509</td>\n",
       "    </tr>\n",
       "    <tr>\n",
       "      <th>0</th>\n",
       "      <td>0</td>\n",
       "      <td>276</td>\n",
       "      <td>Prime</td>\n",
       "      <td>187.428571</td>\n",
       "      <td>0.702509</td>\n",
       "    </tr>\n",
       "    <tr>\n",
       "      <th>1023</th>\n",
       "      <td>187</td>\n",
       "      <td>232</td>\n",
       "      <td>Value</td>\n",
       "      <td>242.285714</td>\n",
       "      <td>0.155321</td>\n",
       "    </tr>\n",
       "  </tbody>\n",
       "</table>\n",
       "</div>"
      ],
      "text/plain": [
       "      label  Count Branch_Type  Sample_Size  Distance Threshold\n",
       "281       7    620       Prime   187.428571            0.702509\n",
       "0         0    276       Prime   187.428571            0.702509\n",
       "1023    187    232       Value   242.285714            0.155321"
      ]
     },
     "execution_count": 29,
     "metadata": {},
     "output_type": "execute_result"
    }
   ],
   "source": [
    "final_label_df\n",
    "final_rep_points"
   ]
  },
  {
   "cell_type": "markdown",
   "metadata": {
    "collapsed": true
   },
   "source": [
    "Further analysis was then carried out jupyter notebooks to do the following:\n",
    "\n",
    ". Map the centroids to the nearest high street or retail park within an acceptable distance. \n",
    "\n",
    ". Check out this correlates with the existing network and measure degree of overlap.\n",
    "\n",
    ". When communicating this back to key stakesholders, I was able to use the transaction value and assumed market share to calculate revenue opportunity for a branch in a cluster."
   ]
  },
  {
   "cell_type": "code",
   "execution_count": null,
   "metadata": {
    "collapsed": true
   },
   "outputs": [],
   "source": []
  }
 ],
 "metadata": {
  "kernelspec": {
   "display_name": "Python 2",
   "language": "python",
   "name": "python2"
  },
  "language_info": {
   "codemirror_mode": {
    "name": "ipython",
    "version": 2
   },
   "file_extension": ".py",
   "mimetype": "text/x-python",
   "name": "python",
   "nbconvert_exporter": "python",
   "pygments_lexer": "ipython2",
   "version": "2.7.13"
  }
 },
 "nbformat": 4,
 "nbformat_minor": 2
}
